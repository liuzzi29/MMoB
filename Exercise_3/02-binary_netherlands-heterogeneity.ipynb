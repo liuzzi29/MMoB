{
 "cells": [
  {
   "cell_type": "markdown",
   "id": "82dad2fb",
   "metadata": {},
   "source": [
    "File 02-binary_netherlands-heterogeneity\n",
    "\n",
    "\n",
    "Michel Bierlaire\n",
    "\n",
    "Sun Aug 11 17:48:19 2024\n",
    "\n",
    "\n"
   ]
  },
  {
   "cell_type": "code",
   "execution_count": null,
   "id": "ea375922",
   "metadata": {},
   "outputs": [],
   "source": [
    "\n",
    "\n",
    "\n",
    "import pandas as pd\n",
    "import biogeme.database as db\n",
    "import biogeme.biogeme as bio\n",
    "from IPython.core.display_functions import display\n",
    "from biogeme.expressions import Beta, Variable, log, exp\n"
   ]
  },
  {
   "cell_type": "markdown",
   "id": "a61043cb",
   "metadata": {},
   "source": [
    "The goal of this computer session is to investigate the\n",
    "heterogeneity of taste in the population."
   ]
  },
  {
   "cell_type": "markdown",
   "id": "09fd5ecc",
   "metadata": {},
   "source": [
    "We are using the binary transportation mode choice data, collected in\n",
    "the Netherlands. The data set is available as\n",
    "http://transp-or.epfl.ch/data/netherlands.dat\n",
    "and its description is available\n",
    "http://transp-or.epfl.ch/documents/technicalReports/CS_NetherlandsDescription.pdf."
   ]
  },
  {
   "cell_type": "markdown",
   "id": "04c5f798",
   "metadata": {},
   "source": [
    "# Data preparation"
   ]
  },
  {
   "cell_type": "code",
   "execution_count": null,
   "id": "9cd168c5",
   "metadata": {},
   "outputs": [],
   "source": [
    "df = pd.read_csv('netherlands.dat', sep='\\t')\n",
    "database = db.Database('netherlands', df)\n",
    "\n",
    "sp = Variable('sp')\n",
    "rail_ivtt = Variable('rail_ivtt')\n",
    "rail_acc_time = Variable('rail_acc_time')\n",
    "rail_egr_time = Variable('rail_egr_time')\n",
    "car_ivtt = Variable('car_ivtt')\n",
    "car_walk_time = Variable('car_walk_time')\n",
    "car_cost = Variable('car_cost')\n",
    "rail_cost = Variable('rail_cost')\n",
    "choice = Variable('choice')\n",
    "\n",
    "exclude = sp != 0\n",
    "database.remove(exclude)\n",
    "\n",
    "rail_time = rail_ivtt + rail_acc_time + rail_egr_time\n",
    "car_time = car_ivtt + car_walk_time\n",
    "DUTCH_GUILDERS_TO_EUROS = 0.44378022\n",
    "car_cost_euro = car_cost * DUTCH_GUILDERS_TO_EUROS\n",
    "rail_cost_euro = rail_cost * DUTCH_GUILDERS_TO_EUROS\n"
   ]
  },
  {
   "cell_type": "markdown",
   "id": "0ac20971",
   "metadata": {},
   "source": [
    "# Base model\n",
    "We first define the base model, where no heterogeneity of taste is considered."
   ]
  },
  {
   "cell_type": "code",
   "execution_count": null,
   "id": "d1d60185",
   "metadata": {},
   "outputs": [],
   "source": [
    "asc_car = Beta('asc_car', 0, None, None, 0)\n",
    "beta_cost = Beta('beta_cost', 0, None, None, 0)\n",
    "beta_time_car = Beta('beta_time_car', 0, None, None, 0)\n",
    "beta_time_rail = Beta('beta_time_rail', 0, None, None, 0)\n",
    "\n",
    "v_car = asc_car + beta_cost * car_cost_euro + beta_time_car * car_time\n",
    "v_rail = beta_cost * rail_cost_euro + beta_time_rail * rail_time\n",
    "prob_car = 1 / (1 + exp(v_rail - v_car))\n",
    "prob_rail = 1 - prob_car\n",
    "prob_observation = prob_car * (choice == 0) + prob_rail * (choice == 1)\n",
    "logprob = log(prob_observation)\n",
    "biogeme = bio.BIOGEME(database, logprob)\n",
    "biogeme.modelName = 'binary_netherlands_socio_eco_base'\n",
    "results_base = biogeme.estimate()\n",
    "\n",
    "print(results_base.print_general_statistics())\n"
   ]
  },
  {
   "cell_type": "code",
   "execution_count": null,
   "id": "fa334455",
   "metadata": {},
   "outputs": [],
   "source": [
    "display(results_base.get_estimated_parameters())\n"
   ]
  },
  {
   "cell_type": "markdown",
   "id": "73654bdd",
   "metadata": {},
   "source": [
    "# Questions\n",
    "1. Split the database into two parts: one with only business trips, and one with only non business trips, and\n",
    "re-estimate the base model on each of them.\n",
    "2. Write a model that includes two set of parameters, one for business and one for other purposes, and estimate it\n",
    "on the full data set. Compare the results with the models estimated on the separate data sets.\n",
    "3. Now, impose the coefficient of travel time by car to be the same for business trip and non business trips. Which\n",
    "model would you prefer?"
   ]
  }
 ],
 "metadata": {
  "kernelspec": {
   "display_name": "Python 3 (ipykernel)",
   "language": "python",
   "name": "python3"
  },
  "language_info": {
   "codemirror_mode": {
    "name": "ipython",
    "version": 3
   },
   "file_extension": ".py",
   "mimetype": "text/x-python",
   "name": "python",
   "nbconvert_exporter": "python",
   "pygments_lexer": "ipython3",
   "version": "3.12.4"
  }
 },
 "nbformat": 4,
 "nbformat_minor": 5
}

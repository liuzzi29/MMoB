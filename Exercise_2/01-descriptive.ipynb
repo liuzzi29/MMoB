{
 "cells": [
  {
   "cell_type": "markdown",
   "id": "fa59cc6c",
   "metadata": {},
   "source": [
    "File 01-descriptive.py\n",
    "\n",
    "\n",
    "Michel Bierlaire\n",
    "\n",
    "Wed Aug 7 18:10:49 2024\n",
    "\n",
    "\n"
   ]
  },
  {
   "cell_type": "markdown",
   "id": "b978adda",
   "metadata": {},
   "source": [
    "Before using a data file for modeling purposes, it is important to\n",
    "collect some information about its content. The objective of this lab is to extract some descriptive statistics\n",
    "from a database with choice data using the package `pandas`."
   ]
  },
  {
   "cell_type": "markdown",
   "id": "8b45b3b9",
   "metadata": {},
   "source": [
    "We introduce some examples using the file `swissmetro.dat`. "
   ]
  },
  {
   "cell_type": "markdown",
   "id": "87f992e2",
   "metadata": {},
   "source": [
    "We first import `pandas`"
   ]
  },
  {
   "cell_type": "code",
   "execution_count": 1,
   "id": "218d5e89",
   "metadata": {},
   "outputs": [],
   "source": [
    "import pandas as pd\n",
    "from IPython.core.display_functions import display\n",
    "from matplotlib import pyplot as plt\n"
   ]
  },
  {
   "cell_type": "markdown",
   "id": "7fa40401",
   "metadata": {},
   "source": [
    "The data file is available at\n",
    "[http://transp-or.epfl.ch/data/swissmetro.dat](http://transp-or.epfl.ch/data/swissmetro.dat)."
   ]
  },
  {
   "cell_type": "markdown",
   "id": "d9cb71c7",
   "metadata": {},
   "source": [
    "The\n",
    "description of the columns of the file is\n",
    "available [here](http://transp-or.epfl.ch/documents/technicalReports/CS_SwissmetroDescription.pdf)."
   ]
  },
  {
   "cell_type": "markdown",
   "id": "26f2444e",
   "metadata": {},
   "source": [
    "Read the file. For future laboratories, it is advised to download the file and store it on your local disk. Here,\n",
    "we will obtain it from its URL."
   ]
  },
  {
   "cell_type": "code",
   "execution_count": 2,
   "id": "60046b31",
   "metadata": {},
   "outputs": [
    {
     "data": {
      "text/html": [
       "<div>\n",
       "<style scoped>\n",
       "    .dataframe tbody tr th:only-of-type {\n",
       "        vertical-align: middle;\n",
       "    }\n",
       "\n",
       "    .dataframe tbody tr th {\n",
       "        vertical-align: top;\n",
       "    }\n",
       "\n",
       "    .dataframe thead th {\n",
       "        text-align: right;\n",
       "    }\n",
       "</style>\n",
       "<table border=\"1\" class=\"dataframe\">\n",
       "  <thead>\n",
       "    <tr style=\"text-align: right;\">\n",
       "      <th></th>\n",
       "      <th>GROUP</th>\n",
       "      <th>SURVEY</th>\n",
       "      <th>SP</th>\n",
       "      <th>ID</th>\n",
       "      <th>PURPOSE</th>\n",
       "      <th>FIRST</th>\n",
       "      <th>TICKET</th>\n",
       "      <th>WHO</th>\n",
       "      <th>LUGGAGE</th>\n",
       "      <th>AGE</th>\n",
       "      <th>...</th>\n",
       "      <th>TRAIN_TT</th>\n",
       "      <th>TRAIN_CO</th>\n",
       "      <th>TRAIN_HE</th>\n",
       "      <th>SM_TT</th>\n",
       "      <th>SM_CO</th>\n",
       "      <th>SM_HE</th>\n",
       "      <th>SM_SEATS</th>\n",
       "      <th>CAR_TT</th>\n",
       "      <th>CAR_CO</th>\n",
       "      <th>CHOICE</th>\n",
       "    </tr>\n",
       "  </thead>\n",
       "  <tbody>\n",
       "    <tr>\n",
       "      <th>0</th>\n",
       "      <td>2</td>\n",
       "      <td>0</td>\n",
       "      <td>1</td>\n",
       "      <td>1</td>\n",
       "      <td>1</td>\n",
       "      <td>0</td>\n",
       "      <td>1</td>\n",
       "      <td>1</td>\n",
       "      <td>0</td>\n",
       "      <td>3</td>\n",
       "      <td>...</td>\n",
       "      <td>112</td>\n",
       "      <td>48</td>\n",
       "      <td>120</td>\n",
       "      <td>63</td>\n",
       "      <td>52</td>\n",
       "      <td>20</td>\n",
       "      <td>0</td>\n",
       "      <td>117</td>\n",
       "      <td>65</td>\n",
       "      <td>2</td>\n",
       "    </tr>\n",
       "    <tr>\n",
       "      <th>1</th>\n",
       "      <td>2</td>\n",
       "      <td>0</td>\n",
       "      <td>1</td>\n",
       "      <td>1</td>\n",
       "      <td>1</td>\n",
       "      <td>0</td>\n",
       "      <td>1</td>\n",
       "      <td>1</td>\n",
       "      <td>0</td>\n",
       "      <td>3</td>\n",
       "      <td>...</td>\n",
       "      <td>103</td>\n",
       "      <td>48</td>\n",
       "      <td>30</td>\n",
       "      <td>60</td>\n",
       "      <td>49</td>\n",
       "      <td>10</td>\n",
       "      <td>0</td>\n",
       "      <td>117</td>\n",
       "      <td>84</td>\n",
       "      <td>2</td>\n",
       "    </tr>\n",
       "    <tr>\n",
       "      <th>2</th>\n",
       "      <td>2</td>\n",
       "      <td>0</td>\n",
       "      <td>1</td>\n",
       "      <td>1</td>\n",
       "      <td>1</td>\n",
       "      <td>0</td>\n",
       "      <td>1</td>\n",
       "      <td>1</td>\n",
       "      <td>0</td>\n",
       "      <td>3</td>\n",
       "      <td>...</td>\n",
       "      <td>130</td>\n",
       "      <td>48</td>\n",
       "      <td>60</td>\n",
       "      <td>67</td>\n",
       "      <td>58</td>\n",
       "      <td>30</td>\n",
       "      <td>0</td>\n",
       "      <td>117</td>\n",
       "      <td>52</td>\n",
       "      <td>2</td>\n",
       "    </tr>\n",
       "    <tr>\n",
       "      <th>3</th>\n",
       "      <td>2</td>\n",
       "      <td>0</td>\n",
       "      <td>1</td>\n",
       "      <td>1</td>\n",
       "      <td>1</td>\n",
       "      <td>0</td>\n",
       "      <td>1</td>\n",
       "      <td>1</td>\n",
       "      <td>0</td>\n",
       "      <td>3</td>\n",
       "      <td>...</td>\n",
       "      <td>103</td>\n",
       "      <td>40</td>\n",
       "      <td>30</td>\n",
       "      <td>63</td>\n",
       "      <td>52</td>\n",
       "      <td>20</td>\n",
       "      <td>0</td>\n",
       "      <td>72</td>\n",
       "      <td>52</td>\n",
       "      <td>2</td>\n",
       "    </tr>\n",
       "    <tr>\n",
       "      <th>4</th>\n",
       "      <td>2</td>\n",
       "      <td>0</td>\n",
       "      <td>1</td>\n",
       "      <td>1</td>\n",
       "      <td>1</td>\n",
       "      <td>0</td>\n",
       "      <td>1</td>\n",
       "      <td>1</td>\n",
       "      <td>0</td>\n",
       "      <td>3</td>\n",
       "      <td>...</td>\n",
       "      <td>130</td>\n",
       "      <td>36</td>\n",
       "      <td>60</td>\n",
       "      <td>63</td>\n",
       "      <td>42</td>\n",
       "      <td>20</td>\n",
       "      <td>0</td>\n",
       "      <td>90</td>\n",
       "      <td>84</td>\n",
       "      <td>2</td>\n",
       "    </tr>\n",
       "    <tr>\n",
       "      <th>...</th>\n",
       "      <td>...</td>\n",
       "      <td>...</td>\n",
       "      <td>...</td>\n",
       "      <td>...</td>\n",
       "      <td>...</td>\n",
       "      <td>...</td>\n",
       "      <td>...</td>\n",
       "      <td>...</td>\n",
       "      <td>...</td>\n",
       "      <td>...</td>\n",
       "      <td>...</td>\n",
       "      <td>...</td>\n",
       "      <td>...</td>\n",
       "      <td>...</td>\n",
       "      <td>...</td>\n",
       "      <td>...</td>\n",
       "      <td>...</td>\n",
       "      <td>...</td>\n",
       "      <td>...</td>\n",
       "      <td>...</td>\n",
       "      <td>...</td>\n",
       "    </tr>\n",
       "    <tr>\n",
       "      <th>10723</th>\n",
       "      <td>3</td>\n",
       "      <td>1</td>\n",
       "      <td>1</td>\n",
       "      <td>1192</td>\n",
       "      <td>4</td>\n",
       "      <td>1</td>\n",
       "      <td>7</td>\n",
       "      <td>1</td>\n",
       "      <td>0</td>\n",
       "      <td>5</td>\n",
       "      <td>...</td>\n",
       "      <td>148</td>\n",
       "      <td>13</td>\n",
       "      <td>30</td>\n",
       "      <td>93</td>\n",
       "      <td>17</td>\n",
       "      <td>30</td>\n",
       "      <td>0</td>\n",
       "      <td>156</td>\n",
       "      <td>56</td>\n",
       "      <td>2</td>\n",
       "    </tr>\n",
       "    <tr>\n",
       "      <th>10724</th>\n",
       "      <td>3</td>\n",
       "      <td>1</td>\n",
       "      <td>1</td>\n",
       "      <td>1192</td>\n",
       "      <td>4</td>\n",
       "      <td>1</td>\n",
       "      <td>7</td>\n",
       "      <td>1</td>\n",
       "      <td>0</td>\n",
       "      <td>5</td>\n",
       "      <td>...</td>\n",
       "      <td>148</td>\n",
       "      <td>12</td>\n",
       "      <td>30</td>\n",
       "      <td>96</td>\n",
       "      <td>16</td>\n",
       "      <td>10</td>\n",
       "      <td>0</td>\n",
       "      <td>96</td>\n",
       "      <td>70</td>\n",
       "      <td>3</td>\n",
       "    </tr>\n",
       "    <tr>\n",
       "      <th>10725</th>\n",
       "      <td>3</td>\n",
       "      <td>1</td>\n",
       "      <td>1</td>\n",
       "      <td>1192</td>\n",
       "      <td>4</td>\n",
       "      <td>1</td>\n",
       "      <td>7</td>\n",
       "      <td>1</td>\n",
       "      <td>0</td>\n",
       "      <td>5</td>\n",
       "      <td>...</td>\n",
       "      <td>148</td>\n",
       "      <td>16</td>\n",
       "      <td>60</td>\n",
       "      <td>93</td>\n",
       "      <td>16</td>\n",
       "      <td>20</td>\n",
       "      <td>0</td>\n",
       "      <td>96</td>\n",
       "      <td>56</td>\n",
       "      <td>3</td>\n",
       "    </tr>\n",
       "    <tr>\n",
       "      <th>10726</th>\n",
       "      <td>3</td>\n",
       "      <td>1</td>\n",
       "      <td>1</td>\n",
       "      <td>1192</td>\n",
       "      <td>4</td>\n",
       "      <td>1</td>\n",
       "      <td>7</td>\n",
       "      <td>1</td>\n",
       "      <td>0</td>\n",
       "      <td>5</td>\n",
       "      <td>...</td>\n",
       "      <td>178</td>\n",
       "      <td>16</td>\n",
       "      <td>30</td>\n",
       "      <td>96</td>\n",
       "      <td>17</td>\n",
       "      <td>30</td>\n",
       "      <td>0</td>\n",
       "      <td>96</td>\n",
       "      <td>91</td>\n",
       "      <td>2</td>\n",
       "    </tr>\n",
       "    <tr>\n",
       "      <th>10727</th>\n",
       "      <td>3</td>\n",
       "      <td>1</td>\n",
       "      <td>1</td>\n",
       "      <td>1192</td>\n",
       "      <td>4</td>\n",
       "      <td>1</td>\n",
       "      <td>7</td>\n",
       "      <td>1</td>\n",
       "      <td>0</td>\n",
       "      <td>5</td>\n",
       "      <td>...</td>\n",
       "      <td>148</td>\n",
       "      <td>13</td>\n",
       "      <td>60</td>\n",
       "      <td>96</td>\n",
       "      <td>21</td>\n",
       "      <td>30</td>\n",
       "      <td>0</td>\n",
       "      <td>120</td>\n",
       "      <td>70</td>\n",
       "      <td>3</td>\n",
       "    </tr>\n",
       "  </tbody>\n",
       "</table>\n",
       "<p>10728 rows × 28 columns</p>\n",
       "</div>"
      ],
      "text/plain": [
       "       GROUP  SURVEY  SP    ID  PURPOSE  FIRST  TICKET  WHO  LUGGAGE  AGE  \\\n",
       "0          2       0   1     1        1      0       1    1        0    3   \n",
       "1          2       0   1     1        1      0       1    1        0    3   \n",
       "2          2       0   1     1        1      0       1    1        0    3   \n",
       "3          2       0   1     1        1      0       1    1        0    3   \n",
       "4          2       0   1     1        1      0       1    1        0    3   \n",
       "...      ...     ...  ..   ...      ...    ...     ...  ...      ...  ...   \n",
       "10723      3       1   1  1192        4      1       7    1        0    5   \n",
       "10724      3       1   1  1192        4      1       7    1        0    5   \n",
       "10725      3       1   1  1192        4      1       7    1        0    5   \n",
       "10726      3       1   1  1192        4      1       7    1        0    5   \n",
       "10727      3       1   1  1192        4      1       7    1        0    5   \n",
       "\n",
       "       ...  TRAIN_TT  TRAIN_CO  TRAIN_HE  SM_TT  SM_CO  SM_HE  SM_SEATS  \\\n",
       "0      ...       112        48       120     63     52     20         0   \n",
       "1      ...       103        48        30     60     49     10         0   \n",
       "2      ...       130        48        60     67     58     30         0   \n",
       "3      ...       103        40        30     63     52     20         0   \n",
       "4      ...       130        36        60     63     42     20         0   \n",
       "...    ...       ...       ...       ...    ...    ...    ...       ...   \n",
       "10723  ...       148        13        30     93     17     30         0   \n",
       "10724  ...       148        12        30     96     16     10         0   \n",
       "10725  ...       148        16        60     93     16     20         0   \n",
       "10726  ...       178        16        30     96     17     30         0   \n",
       "10727  ...       148        13        60     96     21     30         0   \n",
       "\n",
       "       CAR_TT  CAR_CO  CHOICE  \n",
       "0         117      65       2  \n",
       "1         117      84       2  \n",
       "2         117      52       2  \n",
       "3          72      52       2  \n",
       "4          90      84       2  \n",
       "...       ...     ...     ...  \n",
       "10723     156      56       2  \n",
       "10724      96      70       3  \n",
       "10725      96      56       3  \n",
       "10726      96      91       2  \n",
       "10727     120      70       3  \n",
       "\n",
       "[10728 rows x 28 columns]"
      ]
     },
     "metadata": {},
     "output_type": "display_data"
    }
   ],
   "source": [
    "data_file = 'http://transp-or.epfl.ch/data/swissmetro.dat'\n",
    "swissmetro = pd.read_csv(data_file, sep='\\t')\n",
    "display(swissmetro)\n",
    "\n"
   ]
  },
  {
   "cell_type": "markdown",
   "id": "dc559910",
   "metadata": {},
   "source": [
    "- The database contains 10728 rows of data, corresponding to each\n",
    "observation in the sample.\n",
    "- It contains 28 columns, corresponding to\n",
    "the available variables."
   ]
  },
  {
   "cell_type": "markdown",
   "id": "ba2a217d",
   "metadata": {},
   "source": [
    "The list of columns is reported below."
   ]
  },
  {
   "cell_type": "code",
   "execution_count": 3,
   "id": "6c2fb65d",
   "metadata": {},
   "outputs": [
    {
     "data": {
      "text/plain": [
       "Index(['GROUP', 'SURVEY', 'SP', 'ID', 'PURPOSE', 'FIRST', 'TICKET', 'WHO',\n",
       "       'LUGGAGE', 'AGE', 'MALE', 'INCOME', 'GA', 'ORIGIN', 'DEST', 'TRAIN_AV',\n",
       "       'CAR_AV', 'SM_AV', 'TRAIN_TT', 'TRAIN_CO', 'TRAIN_HE', 'SM_TT', 'SM_CO',\n",
       "       'SM_HE', 'SM_SEATS', 'CAR_TT', 'CAR_CO', 'CHOICE'],\n",
       "      dtype='object')"
      ]
     },
     "metadata": {},
     "output_type": "display_data"
    }
   ],
   "source": [
    "display(swissmetro.columns)\n"
   ]
  },
  {
   "cell_type": "markdown",
   "id": "969de5af",
   "metadata": {},
   "source": [
    "If we look at the column `ID`, we observe that it contains 1192\n",
    "unique values, corresponding to the 1192 individuals that have\n",
    "participated in the survey. Each of these respondents was asked to\n",
    "perform 9 choice exercises, for a total of 10728 observations (the\n",
    "number of rows in the file)."
   ]
  },
  {
   "cell_type": "code",
   "execution_count": 4,
   "id": "01908268",
   "metadata": {},
   "outputs": [
    {
     "data": {
      "text/plain": [
       "array([   1,    2,    3, ..., 1190, 1191, 1192])"
      ]
     },
     "metadata": {},
     "output_type": "display_data"
    }
   ],
   "source": [
    "\n",
    "display(swissmetro['ID'].unique())\n"
   ]
  },
  {
   "cell_type": "markdown",
   "id": "c3d0b4ce",
   "metadata": {},
   "source": [
    "If we look at the column `PURPOSE`, corresponding to the trip\n",
    "purpose, it contains a total of 9 unique values, numbered from 1 to\n",
    "9. "
   ]
  },
  {
   "cell_type": "code",
   "execution_count": 5,
   "id": "563e29c0",
   "metadata": {},
   "outputs": [
    {
     "data": {
      "text/plain": [
       "array([1, 2, 3, 4, 5, 6, 7, 8, 9])"
      ]
     },
     "metadata": {},
     "output_type": "display_data"
    }
   ],
   "source": [
    "display(swissmetro['PURPOSE'].unique())\n"
   ]
  },
  {
   "cell_type": "markdown",
   "id": "1bfda671",
   "metadata": {},
   "source": [
    "In order to understand better the distribution of these values, we\n",
    "can calculate the frequency of each value, here sorted by decreasing\n",
    "order of frequency."
   ]
  },
  {
   "cell_type": "code",
   "execution_count": 6,
   "id": "20aa7872",
   "metadata": {},
   "outputs": [
    {
     "data": {
      "text/plain": [
       "PURPOSE\n",
       "3    5193\n",
       "4    2304\n",
       "1    1575\n",
       "2    1278\n",
       "5     144\n",
       "7     144\n",
       "6      63\n",
       "9      18\n",
       "8       9\n",
       "Name: count, dtype: int64"
      ]
     },
     "metadata": {},
     "output_type": "display_data"
    }
   ],
   "source": [
    "display(swissmetro['PURPOSE'].value_counts())\n"
   ]
  },
  {
   "cell_type": "markdown",
   "id": "f5894015",
   "metadata": {},
   "source": [
    "The histogram of this distribution is also useful."
   ]
  },
  {
   "cell_type": "code",
   "execution_count": 7,
   "id": "9e20da45",
   "metadata": {},
   "outputs": [
    {
     "data": {
      "image/png": "[encoded data removed]",
      "text/plain": [
       "<Figure size 640x480 with 1 Axes>"
      ]
     },
     "metadata": {},
     "output_type": "display_data"
    }
   ],
   "source": [
    "_ = swissmetro['PURPOSE'].value_counts().plot(title='PURPOSE', kind='bar')\n",
    "plt.show()\n"
   ]
  },
  {
   "cell_type": "markdown",
   "id": "5543c545",
   "metadata": {},
   "source": [
    "We do the same for the `CHOICE`variable."
   ]
  },
  {
   "cell_type": "code",
   "execution_count": 8,
   "id": "f884fc7c",
   "metadata": {},
   "outputs": [
    {
     "data": {
      "text/plain": [
       "CHOICE\n",
       "2    6216\n",
       "3    3080\n",
       "1    1423\n",
       "0       9\n",
       "Name: count, dtype: int64"
      ]
     },
     "metadata": {},
     "output_type": "display_data"
    }
   ],
   "source": [
    "display(swissmetro['CHOICE'].value_counts())\n"
   ]
  },
  {
   "cell_type": "markdown",
   "id": "26160b0c",
   "metadata": {},
   "source": [
    "And the histogram..."
   ]
  },
  {
   "cell_type": "code",
   "execution_count": 9,
   "id": "4423d321",
   "metadata": {},
   "outputs": [
    {
     "data": {
      "image/png": "[encoded data removed]",
      "text/plain": [
       "<Figure size 640x480 with 1 Axes>"
      ]
     },
     "metadata": {},
     "output_type": "display_data"
    }
   ],
   "source": [
    "_ = swissmetro['CHOICE'].value_counts().plot(title='CHOICE', kind='bar')\n",
    "plt.show()\n"
   ]
  },
  {
   "cell_type": "markdown",
   "id": "ff0d79dc",
   "metadata": {},
   "source": [
    "If we look at the column `INCOME`, we note that it is also\n",
    "coded as a discrete variables, with 5 unique values, distributed as follows."
   ]
  },
  {
   "cell_type": "code",
   "execution_count": 10,
   "id": "39714063",
   "metadata": {},
   "outputs": [
    {
     "data": {
      "text/plain": [
       "INCOME\n",
       "3    4041\n",
       "2    3744\n",
       "1    1719\n",
       "4     918\n",
       "0     306\n",
       "Name: count, dtype: int64"
      ]
     },
     "execution_count": 10,
     "metadata": {},
     "output_type": "execute_result"
    }
   ],
   "source": [
    "swissmetro['INCOME'].value_counts()\n",
    "\n"
   ]
  },
  {
   "cell_type": "markdown",
   "id": "d06241a9",
   "metadata": {},
   "source": [
    "And we can represent the histogram using horizontal bars. "
   ]
  },
  {
   "cell_type": "code",
   "execution_count": 11,
   "id": "9d4fd808",
   "metadata": {},
   "outputs": [
    {
     "data": {
      "image/png": "[encoded data removed]",
      "text/plain": [
       "<Figure size 640x480 with 1 Axes>"
      ]
     },
     "metadata": {},
     "output_type": "display_data"
    }
   ],
   "source": [
    "_ = swissmetro['INCOME'].value_counts().plot(title='INCOME', kind='barh')\n",
    "plt.show()\n"
   ]
  },
  {
   "cell_type": "markdown",
   "id": "6509eda0",
   "metadata": {},
   "source": [
    "If we look at a continuous variable, such as `TRAIN_TT`,\n",
    "representing the travel time by train, we are interested in statistics\n",
    "such as the mean, the standard deviation, the minimum and maximum\n",
    "values, as well as some quantiles."
   ]
  },
  {
   "cell_type": "code",
   "execution_count": 12,
   "id": "e2d722e8",
   "metadata": {},
   "outputs": [
    {
     "data": {
      "text/plain": [
       "count    10728.000000\n",
       "mean       166.626025\n",
       "std         77.353284\n",
       "min         31.000000\n",
       "25%        109.000000\n",
       "50%        157.000000\n",
       "75%        209.000000\n",
       "max       1049.000000\n",
       "Name: TRAIN_TT, dtype: float64"
      ]
     },
     "metadata": {},
     "output_type": "display_data"
    }
   ],
   "source": [
    "\n",
    "display(swissmetro['TRAIN_TT'].describe())\n",
    "\n"
   ]
  },
  {
   "cell_type": "markdown",
   "id": "c5f321ef",
   "metadata": {},
   "source": [
    "It is interesting to note that 75\\% of the values are lesser or equal\n",
    "to 209, while the maximum is 1049. "
   ]
  },
  {
   "cell_type": "markdown",
   "id": "f9f341cf",
   "metadata": {},
   "source": [
    "A histogram can also be plotted."
   ]
  },
  {
   "cell_type": "code",
   "execution_count": 13,
   "id": "804c8f4b",
   "metadata": {},
   "outputs": [
    {
     "data": {
      "image/png": "[encoded data removed]",
      "text/plain": [
       "<Figure size 640x480 with 1 Axes>"
      ]
     },
     "metadata": {},
     "output_type": "display_data"
    }
   ],
   "source": [
    "_ = swissmetro['TRAIN_TT'].hist()\n",
    "\n"
   ]
  },
  {
   "cell_type": "markdown",
   "id": "f39c622e",
   "metadata": {},
   "source": [
    "A similar analysis of the variable `SM_CO` provides the\n",
    "following statistics."
   ]
  },
  {
   "cell_type": "code",
   "execution_count": 14,
   "id": "38ad6f12",
   "metadata": {},
   "outputs": [
    {
     "data": {
      "text/plain": [
       "count    10728.000000\n",
       "mean       670.340697\n",
       "std       1441.594614\n",
       "min          6.000000\n",
       "25%         70.000000\n",
       "50%        111.000000\n",
       "75%        209.000000\n",
       "max       6720.000000\n",
       "Name: SM_CO, dtype: float64"
      ]
     },
     "metadata": {},
     "output_type": "display_data"
    },
    {
     "data": {
      "image/png": "[encoded data removed]",
      "text/plain": [
       "<Figure size 640x480 with 1 Axes>"
      ]
     },
     "metadata": {},
     "output_type": "display_data"
    }
   ],
   "source": [
    "display(swissmetro['SM_CO'].describe())\n",
    "_ = swissmetro['SM_CO'].hist()\n",
    "plt.show()\n"
   ]
  },
  {
   "cell_type": "markdown",
   "id": "718b22a0",
   "metadata": {},
   "source": [
    "It may be made more readable by using a log scale."
   ]
  },
  {
   "cell_type": "code",
   "execution_count": 15,
   "id": "11c618a4",
   "metadata": {},
   "outputs": [
    {
     "data": {
      "image/png": "[encoded data removed]",
      "text/plain": [
       "<Figure size 640x480 with 1 Axes>"
      ]
     },
     "metadata": {},
     "output_type": "display_data"
    }
   ],
   "source": [
    "_ = swissmetro['SM_CO'].hist(log=True)\n",
    "plt.show()\n"
   ]
  },
  {
   "cell_type": "markdown",
   "id": "56dff96c",
   "metadata": {},
   "source": [
    "It is also interesting to investigate the correlation between\n",
    "two variables."
   ]
  },
  {
   "cell_type": "code",
   "execution_count": 16,
   "id": "d4b36a03",
   "metadata": {},
   "outputs": [
    {
     "data": {
      "text/plain": [
       "np.float64(-0.21674740626019556)"
      ]
     },
     "metadata": {},
     "output_type": "display_data"
    }
   ],
   "source": [
    "display(swissmetro['TRAIN_TT'].corr(swissmetro['TRAIN_CO']))\n",
    "\n"
   ]
  },
  {
   "cell_type": "markdown",
   "id": "a5b4b4d4",
   "metadata": {},
   "source": [
    "The correlation can also be illustrated using a scatter plot."
   ]
  },
  {
   "cell_type": "code",
   "execution_count": 17,
   "id": "bd4c61c4",
   "metadata": {},
   "outputs": [
    {
     "data": {
      "image/png": "[encoded data removed]",
      "text/plain": [
       "<Figure size 640x480 with 1 Axes>"
      ]
     },
     "metadata": {},
     "output_type": "display_data"
    }
   ],
   "source": [
    "_ = swissmetro.plot(kind='scatter', x='TRAIN_TT', y='TRAIN_CO', color='r')\n",
    "plt.show()\n"
   ]
  },
  {
   "cell_type": "markdown",
   "id": "9ebc75ba",
   "metadata": {},
   "source": [
    "Now, you are asked to perform a similar analysis of the file\n",
    "[http://transp-or.epfl.ch/data/optima.dat](http://transp-or.epfl.ch/data/optima.dat). The description of the data is\n",
    "available [here](http://transp-or.epfl.ch/documents/technicalReports/CS_OptimaDescription.pdf)."
   ]
  },
  {
   "cell_type": "markdown",
   "id": "b22899c2",
   "metadata": {},
   "source": []
  }
 ],
 "metadata": {
  "kernelspec": {
   "display_name": "Python 3 (ipykernel)",
   "language": "python",
   "name": "python3"
  },
  "language_info": {
   "codemirror_mode": {
    "name": "ipython",
    "version": 3
   },
   "file_extension": ".py",
   "mimetype": "text/x-python",
   "name": "python",
   "nbconvert_exporter": "python",
   "pygments_lexer": "ipython3",
   "version": "3.10.14"
  }
 },
 "nbformat": 4,
 "nbformat_minor": 5
}

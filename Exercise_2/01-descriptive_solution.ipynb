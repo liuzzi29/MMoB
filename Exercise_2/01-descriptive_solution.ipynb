{
 "cells": [
  {
   "cell_type": "markdown",
   "id": "5925b3d1",
   "metadata": {},
   "source": [
    "File 01-descriptive_solution.py\n",
    "\n",
    "\n",
    "Michel Bierlaire\n",
    "\n",
    "Wed Aug 7 18:15:54 2024\n",
    "\n",
    "\n"
   ]
  },
  {
   "cell_type": "code",
   "execution_count": null,
   "id": "d463210c",
   "metadata": {},
   "outputs": [],
   "source": [
    "\n",
    "import pandas as pd\n",
    "from IPython.core.display_functions import display\n",
    "from matplotlib import pyplot as plt\n"
   ]
  },
  {
   "cell_type": "markdown",
   "id": "1886713f",
   "metadata": {},
   "source": [
    "You are asked to perform a descriptive analysis of the file\n",
    "[http://transp-or.epfl.ch/data/optima.dat](http://transp-or.epfl.ch/data/optima.dat). The description of the data is\n",
    "available [here](http://transp-or.epfl.ch/documents/technicalReports/CS_OptimaDescription.pdf)."
   ]
  },
  {
   "cell_type": "code",
   "execution_count": null,
   "id": "048a363e",
   "metadata": {},
   "outputs": [],
   "source": [
    "data_file = 'http://transp-or.epfl.ch/data/optima.dat'\n",
    "optima = pd.read_csv(data_file, sep='\\t')\n",
    "display(optima)\n",
    "\n"
   ]
  },
  {
   "cell_type": "markdown",
   "id": "4a5ff6a0",
   "metadata": {},
   "source": [
    "We first note that there are 2265 observations, but only 1763 IDs. The reason is that some respondents have reported\n",
    "several tours for the day of reference."
   ]
  },
  {
   "cell_type": "code",
   "execution_count": null,
   "id": "80253bc6",
   "metadata": {},
   "outputs": [],
   "source": [
    "display(len(optima['ID'].unique()))\n",
    "\n"
   ]
  },
  {
   "cell_type": "markdown",
   "id": "d5b6b633",
   "metadata": {},
   "source": [
    "As there are many columns, we use a loop to enumerate them."
   ]
  },
  {
   "cell_type": "code",
   "execution_count": null,
   "id": "06001da9",
   "metadata": {},
   "outputs": [],
   "source": [
    "for c in optima.columns:\n",
    "    print(c)\n",
    "\n"
   ]
  },
  {
   "cell_type": "markdown",
   "id": "4740b4f1",
   "metadata": {},
   "source": [
    "We first investigate the discrete variable `Education`."
   ]
  },
  {
   "cell_type": "code",
   "execution_count": null,
   "id": "bc1d2ca8",
   "metadata": {},
   "outputs": [],
   "source": [
    "display(optima['Education'].value_counts())\n",
    "\n",
    "_ = optima['Education'].value_counts().plot(kind='bar')\n",
    "plt.show()\n"
   ]
  },
  {
   "cell_type": "markdown",
   "id": "6763bfc9",
   "metadata": {},
   "source": [
    "We also investigate a continuous variable `TimePT`."
   ]
  },
  {
   "cell_type": "code",
   "execution_count": null,
   "id": "9cb1add5",
   "metadata": {},
   "outputs": [],
   "source": [
    "display(optima['TimePT'].describe())\n",
    "\n"
   ]
  },
  {
   "cell_type": "markdown",
   "id": "330cd603",
   "metadata": {},
   "source": [
    "And the corresponding histogram."
   ]
  },
  {
   "cell_type": "code",
   "execution_count": null,
   "id": "c0346ace",
   "metadata": {},
   "outputs": [],
   "source": [
    "_ = optima['TimePT'].hist(log=True)\n",
    "plt.show()\n"
   ]
  },
  {
   "cell_type": "markdown",
   "id": "50a73b66",
   "metadata": {},
   "source": [
    "We note that income is available in two columns: `Income` and `CalculatedIncome`."
   ]
  },
  {
   "cell_type": "code",
   "execution_count": null,
   "id": "55732fac",
   "metadata": {},
   "outputs": [],
   "source": [
    "display(optima['Income'].value_counts())\n",
    "display(optima['CalculatedIncome'].value_counts())\n"
   ]
  },
  {
   "cell_type": "markdown",
   "id": "f24c9360",
   "metadata": {},
   "source": [
    "And we can plot the two variables."
   ]
  },
  {
   "cell_type": "code",
   "execution_count": null,
   "id": "75d2d03c",
   "metadata": {},
   "outputs": [],
   "source": [
    "_ = optima.plot(kind='scatter', x='Income', y='CalculatedIncome', color='r')\n",
    "plt.show()\n"
   ]
  },
  {
   "cell_type": "markdown",
   "id": "ca253cd0",
   "metadata": {},
   "source": [
    "When income was reported, the calculated income is simply the center of the corresponding interval.\n",
    "For instance, `Income = 2` corresponds to a monthly income from 2501 to 4000 CHF. In that case,\n",
    "`CalculatedIncome = 3250`. When income was not reported (`Income = -1`), the calculated income has been inputted.\n",
    "The method used for imputation is not reported in the documentation."
   ]
  },
  {
   "cell_type": "markdown",
   "id": "2337f2be",
   "metadata": {},
   "source": [
    "It can be noted that the travel time by car and the distance in kilometers are strongly correlated. "
   ]
  },
  {
   "cell_type": "code",
   "execution_count": null,
   "id": "11229646",
   "metadata": {},
   "outputs": [],
   "source": [
    "display(optima['TimeCar'].corr(optima['distance_km']))\n"
   ]
  },
  {
   "cell_type": "markdown",
   "id": "63f8f500",
   "metadata": {},
   "source": [
    "And we can plot the two variables."
   ]
  },
  {
   "cell_type": "code",
   "execution_count": null,
   "id": "74e3eab3",
   "metadata": {},
   "outputs": [],
   "source": [
    "_ = optima.plot(kind='scatter', x='distance_km', y='TimeCar', color='r')\n",
    "plt.show()\n"
   ]
  },
  {
   "cell_type": "markdown",
   "id": "dc5a1660",
   "metadata": {},
   "source": [
    "The travel time by public transportation and distance are also correlated, although less so."
   ]
  },
  {
   "cell_type": "code",
   "execution_count": null,
   "id": "8d3b325b",
   "metadata": {},
   "outputs": [],
   "source": [
    "display(optima['TimePT'].corr(optima['distance_km']))\n"
   ]
  },
  {
   "cell_type": "markdown",
   "id": "9e5797f6",
   "metadata": {},
   "source": [
    "And we can plot the two variables."
   ]
  },
  {
   "cell_type": "code",
   "execution_count": null,
   "id": "36cc0414",
   "metadata": {},
   "outputs": [],
   "source": [
    "_ = optima.plot(kind='scatter', x='distance_km', y='TimePT', color='r')\n",
    "plt.show()"
   ]
  }
 ],
 "metadata": {
  "kernelspec": {
   "display_name": "Python 3 (ipykernel)",
   "language": "python",
   "name": "python3"
  },
  "language_info": {
   "codemirror_mode": {
    "name": "ipython",
    "version": 3
   },
   "file_extension": ".py",
   "mimetype": "text/x-python",
   "name": "python",
   "nbconvert_exporter": "python",
   "pygments_lexer": "ipython3",
   "version": "3.12.4"
  }
 },
 "nbformat": 4,
 "nbformat_minor": 5
}

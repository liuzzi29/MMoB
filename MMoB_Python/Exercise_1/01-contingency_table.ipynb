{
 "cells": [
  {
   "cell_type": "markdown",
   "id": "bfd0566b",
   "metadata": {},
   "source": [
    "File 01-contingency_table.py\n",
    "\n",
    "\n",
    "Michel Bierlaire\n",
    "\n",
    "Wed Aug 7 18:03:31 2024\n",
    "\n",
    "\n",
    "\n",
    "\n"
   ]
  },
  {
   "cell_type": "markdown",
   "id": "8b90beeb",
   "metadata": {},
   "source": [
    "We first import various elements needed for the script."
   ]
  },
  {
   "cell_type": "markdown",
   "id": "689d7a2d",
   "metadata": {},
   "source": [
    "The Pandas package, in charge of the management of the data."
   ]
  },
  {
   "cell_type": "code",
   "execution_count": 1,
   "id": "883b150c",
   "metadata": {},
   "outputs": [],
   "source": [
    "import pandas as pd\n"
   ]
  },
  {
   "cell_type": "markdown",
   "id": "4a45cb1e",
   "metadata": {},
   "source": [
    "The Biogeme interface with the database."
   ]
  },
  {
   "cell_type": "code",
   "execution_count": 2,
   "id": "6ce3ad54",
   "metadata": {},
   "outputs": [],
   "source": [
    "import biogeme.database as db\n"
   ]
  },
  {
   "cell_type": "markdown",
   "id": "97346b67",
   "metadata": {},
   "source": [
    "Biogeme itself."
   ]
  },
  {
   "cell_type": "code",
   "execution_count": 3,
   "id": "28f808b6",
   "metadata": {},
   "outputs": [],
   "source": [
    "import biogeme.biogeme as bio\n",
    "from IPython.core.display_functions import display\n"
   ]
  },
  {
   "cell_type": "markdown",
   "id": "ac4fd8b1",
   "metadata": {},
   "source": [
    "Finally, we import some expressions needed to write the model specification."
   ]
  },
  {
   "cell_type": "code",
   "execution_count": 4,
   "id": "46843c3c",
   "metadata": {},
   "outputs": [],
   "source": [
    "from biogeme.expressions import Beta, log, Variable\n",
    "\n"
   ]
  },
  {
   "cell_type": "markdown",
   "id": "90bef04e",
   "metadata": {},
   "source": [
    "The objective of this exercise is to estimate the parameters of the\n",
    "simple model introduced in the lecture, using Biogeme."
   ]
  },
  {
   "cell_type": "markdown",
   "id": "a1b2eab0",
   "metadata": {},
   "source": [
    "We want to build a model that predicts the market penetration of\n",
    "electric vehicles (EV) as a function of the income level. We have a\n",
    "sample of 1000 individuals. The data is defined using the Pandas\n",
    "package."
   ]
  },
  {
   "cell_type": "markdown",
   "id": "a182f7a1",
   "metadata": {},
   "source": [
    "Each row of the database corresponds to a cell of the contingency table."
   ]
  },
  {
   "cell_type": "code",
   "execution_count": 5,
   "id": "cd7e3132",
   "metadata": {},
   "outputs": [
    {
     "data": {
      "text/html": [
       "<div>\n",
       "<style scoped>\n",
       "    .dataframe tbody tr th:only-of-type {\n",
       "        vertical-align: middle;\n",
       "    }\n",
       "\n",
       "    .dataframe tbody tr th {\n",
       "        vertical-align: top;\n",
       "    }\n",
       "\n",
       "    .dataframe thead th {\n",
       "        text-align: right;\n",
       "    }\n",
       "</style>\n",
       "<table border=\"1\" class=\"dataframe\">\n",
       "  <thead>\n",
       "    <tr style=\"text-align: right;\">\n",
       "      <th></th>\n",
       "      <th>Age</th>\n",
       "      <th>Electric</th>\n",
       "      <th>Total</th>\n",
       "    </tr>\n",
       "  </thead>\n",
       "  <tbody>\n",
       "    <tr>\n",
       "      <th>0</th>\n",
       "      <td>1</td>\n",
       "      <td>1</td>\n",
       "      <td>65</td>\n",
       "    </tr>\n",
       "    <tr>\n",
       "      <th>1</th>\n",
       "      <td>1</td>\n",
       "      <td>0</td>\n",
       "      <td>835</td>\n",
       "    </tr>\n",
       "    <tr>\n",
       "      <th>2</th>\n",
       "      <td>2</td>\n",
       "      <td>1</td>\n",
       "      <td>55</td>\n",
       "    </tr>\n",
       "    <tr>\n",
       "      <th>3</th>\n",
       "      <td>2</td>\n",
       "      <td>0</td>\n",
       "      <td>1045</td>\n",
       "    </tr>\n",
       "    <tr>\n",
       "      <th>4</th>\n",
       "      <td>3</td>\n",
       "      <td>1</td>\n",
       "      <td>5</td>\n",
       "    </tr>\n",
       "    <tr>\n",
       "      <th>5</th>\n",
       "      <td>3</td>\n",
       "      <td>0</td>\n",
       "      <td>495</td>\n",
       "    </tr>\n",
       "  </tbody>\n",
       "</table>\n",
       "</div>"
      ],
      "text/plain": [
       "   Age  Electric  Total\n",
       "0    1         1     65\n",
       "1    1         0    835\n",
       "2    2         1     55\n",
       "3    2         0   1045\n",
       "4    3         1      5\n",
       "5    3         0    495"
      ]
     },
     "metadata": {},
     "output_type": "display_data"
    }
   ],
   "source": [
    "data = pd.DataFrame(\n",
    "    {\n",
    "        'Age': [1, 1, 2, 2, 3, 3],\n",
    "        'Electric': [1, 0, 1, 0, 1, 0],\n",
    "        'Total': [65, 835, 55, 1045, 5, 495],\n",
    "    }\n",
    ")\n",
    "display(data)\n"
   ]
  },
  {
   "cell_type": "markdown",
   "id": "e8d3e9be",
   "metadata": {},
   "source": [
    "We first import the data in the Biogeme database object."
   ]
  },
  {
   "cell_type": "code",
   "execution_count": 6,
   "id": "6c853431",
   "metadata": {},
   "outputs": [],
   "source": [
    "database = db.Database('contingency', data)\n"
   ]
  },
  {
   "cell_type": "markdown",
   "id": "35462bb1",
   "metadata": {},
   "source": [
    "Definition of the variables. We use the same names as the Pandas columns."
   ]
  },
  {
   "cell_type": "code",
   "execution_count": 7,
   "id": "51503f3a",
   "metadata": {},
   "outputs": [],
   "source": [
    "Age = Variable('Age')\n",
    "Electric = Variable('Electric')\n",
    "Total = Variable('Total')\n"
   ]
  },
  {
   "cell_type": "markdown",
   "id": "8449238d",
   "metadata": {},
   "source": [
    "Definition of the parameters to be estimated."
   ]
  },
  {
   "cell_type": "code",
   "execution_count": 8,
   "id": "14f75cd8",
   "metadata": {},
   "outputs": [],
   "source": [
    "pi1 = Beta('pi1', 0.5, 0, 1, 0)\n",
    "pi2 = Beta('pi2', 0.5, 0, 1, 0)\n",
    "pi3 = Beta('pi3', 0.5, 0, 1, 0)\n",
    "\n"
   ]
  },
  {
   "cell_type": "markdown",
   "id": "61c9b219",
   "metadata": {},
   "source": [
    "We associate with each observation the relevant parameter, depending\n",
    "on the value of the variable Age. Note that the expressions like\n",
    "`Age == 1` returns 1 if True and 0 if False. Therefore, for each row\n",
    "in the database, `pi` will be either `pi1`, `pi2` or `pi3`, depending\n",
    "on the value of `Age`."
   ]
  },
  {
   "cell_type": "code",
   "execution_count": 9,
   "id": "be14ee51",
   "metadata": {},
   "outputs": [],
   "source": [
    "\n",
    "pi = (Age == 1) * pi1 + (Age == 2) * pi2 + (Age == 3) * pi3\n"
   ]
  },
  {
   "cell_type": "markdown",
   "id": "720f5d2b",
   "metadata": {},
   "source": [
    "The contribution of each observation to the log likelihood function\n",
    "depends on the value of the variable Electric, and must be applied\n",
    "as many times as reported by Total, that is the value of the\n",
    "corresponding cell of the contingency table."
   ]
  },
  {
   "cell_type": "code",
   "execution_count": 10,
   "id": "57081353",
   "metadata": {},
   "outputs": [],
   "source": [
    "\n",
    "loglike = Total * log(pi) * (Electric == 1) + Total * log(1 - pi) * (\n",
    "    Electric == 0\n",
    ")\n"
   ]
  },
  {
   "cell_type": "markdown",
   "id": "8bd5a093",
   "metadata": {},
   "source": [
    "We create an instance of Biogeme, combining the model and the data"
   ]
  },
  {
   "cell_type": "code",
   "execution_count": 11,
   "id": "acf98547",
   "metadata": {},
   "outputs": [
    {
     "name": "stderr",
     "output_type": "stream",
     "text": [
      "File biogeme.toml has been created\n"
     ]
    }
   ],
   "source": [
    "biogeme = bio.BIOGEME(database, loglike)\n",
    "biogeme.modelName = 'contingency'\n"
   ]
  },
  {
   "cell_type": "markdown",
   "id": "5bb11d6f",
   "metadata": {},
   "source": [
    "We estimate the parameters"
   ]
  },
  {
   "cell_type": "code",
   "execution_count": 12,
   "id": "4e793200",
   "metadata": {},
   "outputs": [],
   "source": [
    "results = biogeme.estimate()\n"
   ]
  },
  {
   "cell_type": "markdown",
   "id": "662d6af9",
   "metadata": {},
   "source": [
    "We obtain the results in a pandas table"
   ]
  },
  {
   "cell_type": "code",
   "execution_count": 13,
   "id": "6a7513f2",
   "metadata": {},
   "outputs": [
    {
     "data": {
      "text/html": [
       "<div>\n",
       "<style scoped>\n",
       "    .dataframe tbody tr th:only-of-type {\n",
       "        vertical-align: middle;\n",
       "    }\n",
       "\n",
       "    .dataframe tbody tr th {\n",
       "        vertical-align: top;\n",
       "    }\n",
       "\n",
       "    .dataframe thead th {\n",
       "        text-align: right;\n",
       "    }\n",
       "</style>\n",
       "<table border=\"1\" class=\"dataframe\">\n",
       "  <thead>\n",
       "    <tr style=\"text-align: right;\">\n",
       "      <th></th>\n",
       "      <th>Value</th>\n",
       "      <th>Rob. Std err</th>\n",
       "      <th>Rob. t-test</th>\n",
       "      <th>Rob. p-value</th>\n",
       "    </tr>\n",
       "  </thead>\n",
       "  <tbody>\n",
       "    <tr>\n",
       "      <th>pi1</th>\n",
       "      <td>0.09375</td>\n",
       "      <td>0.137074</td>\n",
       "      <td>0.683935</td>\n",
       "      <td>0.494016</td>\n",
       "    </tr>\n",
       "    <tr>\n",
       "      <th>pi2</th>\n",
       "      <td>0.09375</td>\n",
       "      <td>0.171811</td>\n",
       "      <td>0.545658</td>\n",
       "      <td>0.585301</td>\n",
       "    </tr>\n",
       "    <tr>\n",
       "      <th>pi3</th>\n",
       "      <td>0.09375</td>\n",
       "      <td>0.468423</td>\n",
       "      <td>0.200140</td>\n",
       "      <td>0.841371</td>\n",
       "    </tr>\n",
       "  </tbody>\n",
       "</table>\n",
       "</div>"
      ],
      "text/plain": [
       "       Value  Rob. Std err  Rob. t-test  Rob. p-value\n",
       "pi1  0.09375      0.137074     0.683935      0.494016\n",
       "pi2  0.09375      0.171811     0.545658      0.585301\n",
       "pi3  0.09375      0.468423     0.200140      0.841371"
      ]
     },
     "metadata": {},
     "output_type": "display_data"
    }
   ],
   "source": [
    "pandas_results = results.get_estimated_parameters()\n",
    "display(pandas_results)\n"
   ]
  },
  {
   "cell_type": "markdown",
   "id": "4d58bb1e",
   "metadata": {},
   "source": [
    "We can check that it is equal to the share in eah category."
   ]
  },
  {
   "cell_type": "code",
   "execution_count": 14,
   "id": "903695c1",
   "metadata": {},
   "outputs": [
    {
     "name": "stdout",
     "output_type": "stream",
     "text": [
      "pi_1 = 0.0722\n",
      "pi_2 = 0.05\n",
      "pi_3 = 0.01\n"
     ]
    }
   ],
   "source": [
    "for i in (1, 2, 3):\n",
    "    total_for_age = data[data['Age'] == i]['Total'].sum()\n",
    "    electric_for_age = data[(data['Age'] == i) & (data['Electric'] == 1)][\n",
    "        'Total'\n",
    "    ].sum()\n",
    "    print(f'pi_{i} = {electric_for_age / total_for_age:.3g}')\n",
    "\n"
   ]
  },
  {
   "cell_type": "markdown",
   "id": "fd318d55",
   "metadata": {},
   "source": [
    "We can now predict future market shares for a scenario with a new\n",
    "distribution of age."
   ]
  },
  {
   "cell_type": "code",
   "execution_count": 15,
   "id": "59ead00e",
   "metadata": {},
   "outputs": [
    {
     "name": "stdout",
     "output_type": "stream",
     "text": [
      "Predicted market share: 9.4%\n"
     ]
    }
   ],
   "source": [
    "pi1_estimate = pandas_results['Value']['pi1']\n",
    "pi2_estimate = pandas_results['Value']['pi2']\n",
    "pi3_estimate = pandas_results['Value']['pi3']\n",
    "\n",
    "market_share = pi1_estimate * 0.25 + pi2_estimate * 0.50 + pi3_estimate * 0.25\n",
    "print(f'Predicted market share: {100*market_share:.2g}%')\n"
   ]
  },
  {
   "cell_type": "markdown",
   "id": "780dc178",
   "metadata": {},
   "source": [
    "Consider now a similar data set where we have collected data per income category, coded as follows:\n",
    "1: low, 2: medium, 3: high."
   ]
  },
  {
   "cell_type": "code",
   "execution_count": 5,
   "id": "f398b1e1",
   "metadata": {},
   "outputs": [
    {
     "data": {
      "text/html": [
       "<div>\n",
       "<style scoped>\n",
       "    .dataframe tbody tr th:only-of-type {\n",
       "        vertical-align: middle;\n",
       "    }\n",
       "\n",
       "    .dataframe tbody tr th {\n",
       "        vertical-align: top;\n",
       "    }\n",
       "\n",
       "    .dataframe thead th {\n",
       "        text-align: right;\n",
       "    }\n",
       "</style>\n",
       "<table border=\"1\" class=\"dataframe\">\n",
       "  <thead>\n",
       "    <tr style=\"text-align: right;\">\n",
       "      <th></th>\n",
       "      <th>Income</th>\n",
       "      <th>Electric</th>\n",
       "      <th>Total</th>\n",
       "    </tr>\n",
       "  </thead>\n",
       "  <tbody>\n",
       "    <tr>\n",
       "      <th>0</th>\n",
       "      <td>1</td>\n",
       "      <td>1</td>\n",
       "      <td>15</td>\n",
       "    </tr>\n",
       "    <tr>\n",
       "      <th>1</th>\n",
       "      <td>1</td>\n",
       "      <td>0</td>\n",
       "      <td>200</td>\n",
       "    </tr>\n",
       "    <tr>\n",
       "      <th>2</th>\n",
       "      <td>2</td>\n",
       "      <td>1</td>\n",
       "      <td>50</td>\n",
       "    </tr>\n",
       "    <tr>\n",
       "      <th>3</th>\n",
       "      <td>2</td>\n",
       "      <td>0</td>\n",
       "      <td>450</td>\n",
       "    </tr>\n",
       "    <tr>\n",
       "      <th>4</th>\n",
       "      <td>3</td>\n",
       "      <td>1</td>\n",
       "      <td>135</td>\n",
       "    </tr>\n",
       "    <tr>\n",
       "      <th>5</th>\n",
       "      <td>3</td>\n",
       "      <td>0</td>\n",
       "      <td>150</td>\n",
       "    </tr>\n",
       "  </tbody>\n",
       "</table>\n",
       "</div>"
      ],
      "text/plain": [
       "   Income  Electric  Total\n",
       "0       1         1     15\n",
       "1       1         0    200\n",
       "2       2         1     50\n",
       "3       2         0    450\n",
       "4       3         1    135\n",
       "5       3         0    150"
      ]
     },
     "metadata": {},
     "output_type": "display_data"
    }
   ],
   "source": [
    "income_data = pd.DataFrame(\n",
    "    {\n",
    "        'Income': [1, 1, 2, 2, 3, 3],\n",
    "        'Electric': [1, 0, 1, 0, 1, 0],\n",
    "        'Total': [15, 200, 50, 450, 135, 150],\n",
    "    }\n",
    ")\n",
    "display(income_data)\n"
   ]
  },
  {
   "cell_type": "markdown",
   "id": "ab4ce438",
   "metadata": {},
   "source": [
    "1. Estimate the parameters of the  model predicting the choice of\n",
    "electrical vehicle as a function of income.\n",
    "\n",
    "2. Consider a scenario where  the\n",
    "income distribution is as follows: 7.5% of the population\n",
    "with low income, 40% of the population with medium income\n",
    "and 52.5% of the population with high income. Use the\n",
    "estimated model to forecast the market share of electric\n",
    "vehicles under this scenario."
   ]
  },
  {
   "cell_type": "code",
   "execution_count": 6,
   "id": "fea93e2c",
   "metadata": {},
   "outputs": [],
   "source": [
    "database = db.Database('contingency_1', income_data)"
   ]
  },
  {
   "cell_type": "code",
   "execution_count": 7,
   "id": "9f5470c8",
   "metadata": {},
   "outputs": [],
   "source": [
    "Income = Variable('Income')\n",
    "Electric = Variable('Electric')\n",
    "Total = Variable('Total')"
   ]
  },
  {
   "cell_type": "code",
   "execution_count": 8,
   "id": "0a6f6092",
   "metadata": {},
   "outputs": [],
   "source": [
    "pi1 = Beta('pi1', 0.5, 0, 1, 0)\n",
    "pi2 = Beta('pi2', 0.5, 0, 1, 0)\n",
    "pi3 = Beta('pi3', 0.5, 0, 1, 0)"
   ]
  },
  {
   "cell_type": "code",
   "execution_count": 9,
   "id": "b1cfed21",
   "metadata": {},
   "outputs": [],
   "source": [
    "pi = (Income == 1) * pi1 + ( Income == 2) * pi2 + ( Income== 3) * pi3"
   ]
  },
  {
   "cell_type": "code",
   "execution_count": 10,
   "id": "1e014267",
   "metadata": {},
   "outputs": [],
   "source": [
    "loglike = Total * log(pi) * (Electric == 1) + Total * log(1 - pi) * (\n",
    "    Electric == 0\n",
    ")"
   ]
  },
  {
   "cell_type": "code",
   "execution_count": 11,
   "id": "79e99d62",
   "metadata": {},
   "outputs": [],
   "source": [
    "biogeme = bio.BIOGEME(database, loglike)\n",
    "biogeme.modelName = 'contingency_1'"
   ]
  },
  {
   "cell_type": "code",
   "execution_count": 12,
   "id": "faebd959",
   "metadata": {},
   "outputs": [],
   "source": [
    "results = biogeme.estimate()"
   ]
  },
  {
   "cell_type": "code",
   "execution_count": 13,
   "id": "5b21b41a",
   "metadata": {},
   "outputs": [
    {
     "data": {
      "text/html": [
       "<div>\n",
       "<style scoped>\n",
       "    .dataframe tbody tr th:only-of-type {\n",
       "        vertical-align: middle;\n",
       "    }\n",
       "\n",
       "    .dataframe tbody tr th {\n",
       "        vertical-align: top;\n",
       "    }\n",
       "\n",
       "    .dataframe thead th {\n",
       "        text-align: right;\n",
       "    }\n",
       "</style>\n",
       "<table border=\"1\" class=\"dataframe\">\n",
       "  <thead>\n",
       "    <tr style=\"text-align: right;\">\n",
       "      <th></th>\n",
       "      <th>Value</th>\n",
       "      <th>Rob. Std err</th>\n",
       "      <th>Rob. t-test</th>\n",
       "      <th>Rob. p-value</th>\n",
       "    </tr>\n",
       "  </thead>\n",
       "  <tbody>\n",
       "    <tr>\n",
       "      <th>pi1</th>\n",
       "      <td>0.069767</td>\n",
       "      <td>0.091782</td>\n",
       "      <td>0.760140</td>\n",
       "      <td>0.447171</td>\n",
       "    </tr>\n",
       "    <tr>\n",
       "      <th>pi2</th>\n",
       "      <td>0.100000</td>\n",
       "      <td>0.127279</td>\n",
       "      <td>0.785674</td>\n",
       "      <td>0.432058</td>\n",
       "    </tr>\n",
       "    <tr>\n",
       "      <th>pi3</th>\n",
       "      <td>0.473684</td>\n",
       "      <td>0.352574</td>\n",
       "      <td>1.343503</td>\n",
       "      <td>0.179109</td>\n",
       "    </tr>\n",
       "  </tbody>\n",
       "</table>\n",
       "</div>"
      ],
      "text/plain": [
       "        Value  Rob. Std err  Rob. t-test  Rob. p-value\n",
       "pi1  0.069767      0.091782     0.760140      0.447171\n",
       "pi2  0.100000      0.127279     0.785674      0.432058\n",
       "pi3  0.473684      0.352574     1.343503      0.179109"
      ]
     },
     "metadata": {},
     "output_type": "display_data"
    }
   ],
   "source": [
    "pandas_results = results.get_estimated_parameters()\n",
    "display(pandas_results)"
   ]
  },
  {
   "cell_type": "code",
   "execution_count": 15,
   "id": "1968ad21",
   "metadata": {},
   "outputs": [
    {
     "name": "stdout",
     "output_type": "stream",
     "text": [
      "pi_1 = 0.0698\n",
      "pi_2 = 0.1\n",
      "pi_3 = 0.474\n"
     ]
    }
   ],
   "source": [
    "for i in (1, 2, 3):\n",
    "    total_for_income = income_data[income_data['Income'] == i]['Total'].sum()\n",
    "    electric_for_income = income_data[(income_data['Income'] == i) & (income_data['Electric'] == 1)][\n",
    "        'Total'\n",
    "    ].sum()\n",
    "    print(f'pi_{i} = {electric_for_income/ total_for_income:.3g}')"
   ]
  },
  {
   "cell_type": "code",
   "execution_count": 16,
   "id": "a75b0615",
   "metadata": {},
   "outputs": [
    {
     "name": "stdout",
     "output_type": "stream",
     "text": [
      "Predicted market share: 29%\n"
     ]
    }
   ],
   "source": [
    "pi1_estimate = pandas_results['Value']['pi1']\n",
    "pi2_estimate = pandas_results['Value']['pi2']\n",
    "pi3_estimate = pandas_results['Value']['pi3']\n",
    "\n",
    "market_share = pi1_estimate * 0.075 + pi2_estimate * 0.40 + pi3_estimate * 0.525\n",
    "print(f'Predicted market share: {100*market_share:.2g}%')"
   ]
  },
  {
   "cell_type": "code",
   "execution_count": null,
   "id": "162a96af",
   "metadata": {},
   "outputs": [],
   "source": []
  }
 ],
 "metadata": {
  "kernelspec": {
   "display_name": "base",
   "language": "python",
   "name": "python3"
  },
  "language_info": {
   "codemirror_mode": {
    "name": "ipython",
    "version": 3
   },
   "file_extension": ".py",
   "mimetype": "text/x-python",
   "name": "python",
   "nbconvert_exporter": "python",
   "pygments_lexer": "ipython3",
   "version": "3.10.14"
  }
 },
 "nbformat": 4,
 "nbformat_minor": 5
}

{
 "cells": [
  {
   "cell_type": "markdown",
   "id": "7f41bb8b",
   "metadata": {},
   "source": [
    "File 01-contingency_table_solution.py\n",
    "\n",
    "\n",
    "Michel Bierlaire\n",
    "\n",
    "Wed Aug 7 18:03:43 2024\n",
    "\n"
   ]
  },
  {
   "cell_type": "code",
   "execution_count": null,
   "id": "30b847e6",
   "metadata": {},
   "outputs": [],
   "source": [
    "\n",
    "import biogeme.database as db\n",
    "import biogeme.biogeme as bio\n",
    "from IPython.core.display_functions import display\n",
    "from biogeme.expressions import Beta, log, Variable\n",
    "import pandas as pd\n"
   ]
  },
  {
   "cell_type": "markdown",
   "id": "a768054b",
   "metadata": {},
   "source": [
    "We consider the data set where we have collected data per income category, coded as\n",
    "follows: 1: low, 2: medium, 3: high."
   ]
  },
  {
   "cell_type": "code",
   "execution_count": null,
   "id": "673ea09c",
   "metadata": {},
   "outputs": [],
   "source": [
    "income_data = pd.DataFrame(\n",
    "    {\n",
    "        'Income': [1, 1, 2, 2, 3, 3],\n",
    "        'Electric': [1, 0, 1, 0, 1, 0],\n",
    "        'Total': [15, 200, 50, 450, 135, 150],\n",
    "    }\n",
    ")\n"
   ]
  },
  {
   "cell_type": "markdown",
   "id": "86419366",
   "metadata": {},
   "source": [
    "1. Estimate the parameters of the  model predicting the choice of\n",
    "electrical vehicle as a function of income.\n",
    "\n",
    "2. Consider a scenario where  the\n",
    "income distribution is as follows: 7.5% of the population\n",
    "with low income, 40% of the population with medium income\n",
    "and 52.5% of the population with high income. Use the\n",
    "estimated model to forecast the market share of electric\n",
    "vehicles under this scenario."
   ]
  },
  {
   "cell_type": "markdown",
   "id": "d5e136b2",
   "metadata": {},
   "source": [
    "We proceed in the same way. We first import the data into the Biogeme database."
   ]
  },
  {
   "cell_type": "code",
   "execution_count": null,
   "id": "8989983f",
   "metadata": {},
   "outputs": [],
   "source": [
    "database_income = db.Database('contingency_income', income_data)\n"
   ]
  },
  {
   "cell_type": "markdown",
   "id": "a01452b3",
   "metadata": {},
   "source": [
    "We define the variables."
   ]
  },
  {
   "cell_type": "code",
   "execution_count": null,
   "id": "8c78e5a7",
   "metadata": {},
   "outputs": [],
   "source": [
    "Income = Variable('Income')\n",
    "Electric = Variable('Electric')\n",
    "Total = Variable('Total')\n"
   ]
  },
  {
   "cell_type": "markdown",
   "id": "a0e4f370",
   "metadata": {},
   "source": [
    "We define the parameters to be estimated."
   ]
  },
  {
   "cell_type": "code",
   "execution_count": null,
   "id": "401bc0aa",
   "metadata": {},
   "outputs": [],
   "source": [
    "pi1 = Beta('pi1', 0.5, 0, 1, 0)\n",
    "pi2 = Beta('pi2', 0.5, 0, 1, 0)\n",
    "pi3 = Beta('pi3', 0.5, 0, 1, 0)\n",
    "pi = (Income == 1) * pi1 + (Income == 2) * pi2 + (Income == 3) * pi3\n"
   ]
  },
  {
   "cell_type": "markdown",
   "id": "d22f3d60",
   "metadata": {},
   "source": [
    "We define the contribution of each row to the log likelihood function."
   ]
  },
  {
   "cell_type": "code",
   "execution_count": null,
   "id": "7ca3fd15",
   "metadata": {},
   "outputs": [],
   "source": [
    "loglike = Total * log(pi) * (Electric == 1) + Total * log(1 - pi) * (\n",
    "    Electric == 0\n",
    ")\n"
   ]
  },
  {
   "cell_type": "markdown",
   "id": "3f00f02c",
   "metadata": {},
   "source": [
    "We provide the database and the expression to the Biogeme object."
   ]
  },
  {
   "cell_type": "code",
   "execution_count": null,
   "id": "184e1e75",
   "metadata": {},
   "outputs": [],
   "source": [
    "biogeme = bio.BIOGEME(database_income, loglike)\n",
    "biogeme.modelName = 'contingency_income'\n"
   ]
  },
  {
   "cell_type": "markdown",
   "id": "45d2bc16",
   "metadata": {},
   "source": [
    "We run the estimation."
   ]
  },
  {
   "cell_type": "code",
   "execution_count": null,
   "id": "e8ca5eb5",
   "metadata": {},
   "outputs": [],
   "source": [
    "results = biogeme.estimate()\n"
   ]
  },
  {
   "cell_type": "markdown",
   "id": "11cd66a2",
   "metadata": {},
   "source": [
    "We retrieve the estimated parameters."
   ]
  },
  {
   "cell_type": "code",
   "execution_count": null,
   "id": "13338e2a",
   "metadata": {},
   "outputs": [],
   "source": [
    "pandas_results = results.get_estimated_parameters()\n",
    "display(pandas_results)\n"
   ]
  },
  {
   "cell_type": "markdown",
   "id": "aedef1dd",
   "metadata": {},
   "source": [
    "And, finally, we use the estimated model to predict."
   ]
  },
  {
   "cell_type": "code",
   "execution_count": null,
   "id": "52017ba5",
   "metadata": {},
   "outputs": [],
   "source": [
    "pi1_estimate = pandas_results['Value']['pi1']\n",
    "pi2_estimate = pandas_results['Value']['pi2']\n",
    "pi3_estimate = pandas_results['Value']['pi3']\n",
    "\n",
    "market_share = (\n",
    "    pi1_estimate * 0.075 + pi2_estimate * 0.40 + pi3_estimate * 0.525\n",
    ")\n",
    "print(f'Market share future scenario: {100*market_share:.3g}%')"
   ]
  }
 ],
 "metadata": {},
 "nbformat": 4,
 "nbformat_minor": 5
}
